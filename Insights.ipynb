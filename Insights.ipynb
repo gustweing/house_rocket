{
 "cells": [
  {
   "cell_type": "code",
   "execution_count": 126,
   "id": "d54a296b",
   "metadata": {},
   "outputs": [
    {
     "name": "stdout",
     "output_type": "stream",
     "text": [
      "VERDADEIRO: As casas que possuem \"waterfront\" são aproximadamente 213% acima da média comparada com as casas sem \"waterfront\"\n",
      "FALSO: As casas com menor ano de construção são apenas 0.78% mais baratas\n",
      "FALSO: As casas sem porão possuem em média área de 18.41% maiores\n",
      "FALSO: O crescimento dos imóveis YoY é de 0.52%.\n"
     ]
    }
   ],
   "source": [
    "import pandas as pd\n",
    "\n",
    "data = pd.read_csv('../portfolio/datasets/kc_house_clean.csv')\n",
    "\n",
    "## h1 - Imóveis que possuem vista para a água são 30% mais caros na média\n",
    "\n",
    "waterfront_data = data[['waterfront','price']].groupby('waterfront').mean().reset_index()\n",
    "\n",
    "no_waterfront = waterfront_data.loc[0,'price']\n",
    "yes_waterfront = waterfront_data.loc[1,'price']\n",
    "\n",
    "porcent_waterfront = ((yes_waterfront-no_waterfront)/no_waterfront) * 100\n",
    "\n",
    "print(f'VERDADEIRO: As casas que possuem \"waterfront\" são aproximadamente {round(porcent_waterfront)}% acima da média comparada com as casas sem \"waterfront\"')\n",
    "\n",
    "## h2 - Imóveis com data de construção menor que 1955 são 55% mais baratos na média\n",
    "\n",
    "data['house_age'] = data['yr_built'].apply(lambda x: 'new' if x >= 1955 else 'old')\n",
    "\n",
    "house_age = data[['house_age','price']].groupby('house_age').mean().reset_index()\n",
    "new_age = house_age.loc[0,'price']\n",
    "old_age = house_age.loc[1,'price']\n",
    "\n",
    "porcent_age = ((new_age - old_age)/new_age) * 100\n",
    "\n",
    "print(f'FALSO: As casas com menor ano de construção são apenas {porcent_age:.2f}% mais baratas')\n",
    "\n",
    "## h3 - Imóveis sem porão possuem área total de 40% maiores do que imóveis com porão \n",
    "\n",
    "data['basement'] = data['sqft_basement'].apply(lambda x: 'yes' if x != 0 else 'no')\n",
    "\n",
    "basement_sqft = data[['basement','sqft_lot']].groupby('basement').mean().reset_index()\n",
    "basement_no = basement_sqft.loc[0,'sqft_lot']\n",
    "basement_yes = basement_sqft.loc[1,'sqft_lot']\n",
    "\n",
    "percent_basement = ((basement_no - basement_yes) / basement_no) * 100\n",
    "percent_basement\n",
    "\n",
    "print(f'FALSO: As casas sem porão possuem em média área de {percent_basement:.2f}% maiores')\n",
    "\n",
    "## h4 - O crescimento dos imóveis YoY é de 10%.\n",
    "\n",
    "data['date_yr'] = pd.to_datetime(data['date']).dt.year\n",
    "\n",
    "yoy_price = data[['date_yr','price']].groupby('date_yr').mean().reset_index()\n",
    "price_2014 = yoy_price.loc[0,'price']\n",
    "price_2015 = yoy_price.loc[1,'price']\n",
    "\n",
    "percent_growth = ((price_2015 - price_2014)/price_2014) * 100\n",
    "print(f'FALSO: O crescimento dos imóveis YoY é de {percent_growth:.2f}%.')"
   ]
  },
  {
   "cell_type": "code",
   "execution_count": null,
   "id": "5e1c5c84",
   "metadata": {},
   "outputs": [],
   "source": []
  }
 ],
 "metadata": {
  "kernelspec": {
   "display_name": "Python 3",
   "language": "python",
   "name": "python3"
  },
  "language_info": {
   "codemirror_mode": {
    "name": "ipython",
    "version": 3
   },
   "file_extension": ".py",
   "mimetype": "text/x-python",
   "name": "python",
   "nbconvert_exporter": "python",
   "pygments_lexer": "ipython3",
   "version": "3.8.8"
  }
 },
 "nbformat": 4,
 "nbformat_minor": 5
}
